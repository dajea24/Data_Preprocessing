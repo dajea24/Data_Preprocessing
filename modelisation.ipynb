{
 "cells": [
  {
   "cell_type": "code",
   "execution_count": 1,
   "id": "901c44ae-73ee-483c-965a-e4061a06eabb",
   "metadata": {},
   "outputs": [],
   "source": [
    "# Import libraries and classes required for this example:\n",
    "from sklearn.model_selection import train_test_split\n",
    "from sklearn.preprocessing import StandardScaler \n",
    "from sklearn.neighbors import KNeighborsClassifier\n",
    "from sklearn.metrics import classification_report, confusion_matrix\n",
    "import pandas as pd \n"
   ]
  },
  {
   "cell_type": "code",
   "execution_count": 2,
   "id": "a7ec896d-5191-441f-8db9-7b5f3ac13c6e",
   "metadata": {},
   "outputs": [
    {
     "data": {
      "text/html": [
       "<div>\n",
       "<style scoped>\n",
       "    .dataframe tbody tr th:only-of-type {\n",
       "        vertical-align: middle;\n",
       "    }\n",
       "\n",
       "    .dataframe tbody tr th {\n",
       "        vertical-align: top;\n",
       "    }\n",
       "\n",
       "    .dataframe thead th {\n",
       "        text-align: right;\n",
       "    }\n",
       "</style>\n",
       "<table border=\"1\" class=\"dataframe\">\n",
       "  <thead>\n",
       "    <tr style=\"text-align: right;\">\n",
       "      <th></th>\n",
       "      <th>Unnamed: 0</th>\n",
       "      <th>Acc_X</th>\n",
       "      <th>Acc_Y</th>\n",
       "      <th>Acc_Z</th>\n",
       "      <th>Gyr_X</th>\n",
       "      <th>Gyr_Y</th>\n",
       "      <th>Gyr_Z</th>\n",
       "      <th>Mag_X</th>\n",
       "      <th>Mag_Y</th>\n",
       "      <th>Mag_Z</th>\n",
       "      <th>y</th>\n",
       "    </tr>\n",
       "  </thead>\n",
       "  <tbody>\n",
       "    <tr>\n",
       "      <th>0</th>\n",
       "      <td>0</td>\n",
       "      <td>15</td>\n",
       "      <td>-174</td>\n",
       "      <td>-90</td>\n",
       "      <td>-53</td>\n",
       "      <td>-568</td>\n",
       "      <td>-306</td>\n",
       "      <td>48</td>\n",
       "      <td>-675</td>\n",
       "      <td>-254</td>\n",
       "      <td>0</td>\n",
       "    </tr>\n",
       "    <tr>\n",
       "      <th>1</th>\n",
       "      <td>1</td>\n",
       "      <td>1</td>\n",
       "      <td>-176</td>\n",
       "      <td>-81</td>\n",
       "      <td>-84</td>\n",
       "      <td>-613</td>\n",
       "      <td>-271</td>\n",
       "      <td>-2</td>\n",
       "      <td>-668</td>\n",
       "      <td>-221</td>\n",
       "      <td>0</td>\n",
       "    </tr>\n",
       "    <tr>\n",
       "      <th>2</th>\n",
       "      <td>2</td>\n",
       "      <td>-10</td>\n",
       "      <td>-180</td>\n",
       "      <td>-77</td>\n",
       "      <td>-104</td>\n",
       "      <td>-647</td>\n",
       "      <td>-227</td>\n",
       "      <td>-34</td>\n",
       "      <td>-697</td>\n",
       "      <td>-175</td>\n",
       "      <td>0</td>\n",
       "    </tr>\n",
       "    <tr>\n",
       "      <th>3</th>\n",
       "      <td>3</td>\n",
       "      <td>-21</td>\n",
       "      <td>-191</td>\n",
       "      <td>-63</td>\n",
       "      <td>-128</td>\n",
       "      <td>-675</td>\n",
       "      <td>-191</td>\n",
       "      <td>-74</td>\n",
       "      <td>-741</td>\n",
       "      <td>-133</td>\n",
       "      <td>0</td>\n",
       "    </tr>\n",
       "    <tr>\n",
       "      <th>4</th>\n",
       "      <td>4</td>\n",
       "      <td>-37</td>\n",
       "      <td>-225</td>\n",
       "      <td>-59</td>\n",
       "      <td>-146</td>\n",
       "      <td>-700</td>\n",
       "      <td>-159</td>\n",
       "      <td>-110</td>\n",
       "      <td>-840</td>\n",
       "      <td>-103</td>\n",
       "      <td>0</td>\n",
       "    </tr>\n",
       "  </tbody>\n",
       "</table>\n",
       "</div>"
      ],
      "text/plain": [
       "   Unnamed: 0  Acc_X  Acc_Y  Acc_Z  Gyr_X  Gyr_Y  Gyr_Z  Mag_X  Mag_Y  Mag_Z  \\\n",
       "0           0     15   -174    -90    -53   -568   -306     48   -675   -254   \n",
       "1           1      1   -176    -81    -84   -613   -271     -2   -668   -221   \n",
       "2           2    -10   -180    -77   -104   -647   -227    -34   -697   -175   \n",
       "3           3    -21   -191    -63   -128   -675   -191    -74   -741   -133   \n",
       "4           4    -37   -225    -59   -146   -700   -159   -110   -840   -103   \n",
       "\n",
       "   y  \n",
       "0  0  \n",
       "1  0  \n",
       "2  0  \n",
       "3  0  \n",
       "4  0  "
      ]
     },
     "execution_count": 2,
     "metadata": {},
     "output_type": "execute_result"
    }
   ],
   "source": [
    "df = pd.read_csv(\"/Users/davidjeannette/Desktop/Alex_Project/notebooks/out2.csv\")\n",
    "df.head()"
   ]
  },
  {
   "cell_type": "code",
   "execution_count": 3,
   "id": "a1a830ac-cdd9-45b2-99cd-0f74ff548b9f",
   "metadata": {},
   "outputs": [],
   "source": [
    "df = df.drop('Unnamed: 0',axis=1)"
   ]
  },
  {
   "cell_type": "code",
   "execution_count": 4,
   "id": "6460984f-3c72-46ef-bea0-0cad16fac6b9",
   "metadata": {},
   "outputs": [],
   "source": [
    "y = df['y'].values\n",
    "X = df.drop(['y'],axis=1).values"
   ]
  },
  {
   "cell_type": "markdown",
   "id": "1f745c59-6187-427f-999e-acafa45bbab8",
   "metadata": {},
   "source": [
    "## 1. Diviser le dataset en jeu d'entrainement et de test"
   ]
  },
  {
   "cell_type": "code",
   "execution_count": 5,
   "id": "52e2ab4b-7a75-427d-aab0-c5154333c453",
   "metadata": {},
   "outputs": [],
   "source": [
    "# Split dataset into random train and test subsets:\n",
    "X_train, X_test, y_train, y_test = train_test_split(X, y, test_size=0.20,random_state=42)"
   ]
  },
  {
   "cell_type": "markdown",
   "id": "5477ee84-7a48-42e3-94e1-4d4b2e617c49",
   "metadata": {},
   "source": [
    "## 2. Standadisation des données"
   ]
  },
  {
   "cell_type": "code",
   "execution_count": 6,
   "id": "247d2904-ed2c-413a-92bf-8c4f43681209",
   "metadata": {},
   "outputs": [
    {
     "data": {
      "text/plain": [
       "StandardScaler()"
      ]
     },
     "execution_count": 6,
     "metadata": {},
     "output_type": "execute_result"
    }
   ],
   "source": [
    "from sklearn.preprocessing import StandardScaler\n",
    "\n",
    "# Standardize features by removing mean and scaling to unit variance:\n",
    "scaler = StandardScaler()\n",
    "scaler.fit(X_train)"
   ]
  },
  {
   "cell_type": "code",
   "execution_count": 7,
   "id": "16e7b535-d1db-47bf-a5b7-19aab5f0c812",
   "metadata": {},
   "outputs": [],
   "source": [
    "X_train = scaler.transform(X_train)\n",
    "X_test = scaler.transform(X_test) "
   ]
  },
  {
   "cell_type": "code",
   "execution_count": 41,
   "id": "fe798bdd-4380-4b7a-8b8c-c2a6d926d522",
   "metadata": {},
   "outputs": [
    {
     "data": {
      "text/plain": [
       "KNeighborsClassifier(n_neighbors=4)"
      ]
     },
     "execution_count": 41,
     "metadata": {},
     "output_type": "execute_result"
    }
   ],
   "source": [
    "# Use the KNN classifier to fit data:\n",
    "classifier = KNeighborsClassifier(n_neighbors=4)\n",
    "classifier.fit(X_train, y_train) "
   ]
  },
  {
   "cell_type": "code",
   "execution_count": null,
   "id": "a9784485-d6d3-4bc2-bc9f-9a15d4983dbe",
   "metadata": {},
   "outputs": [],
   "source": [
    "# Predict y data with classifier: \n",
    "y_predict = classifier.predict(X_test)"
   ]
  },
  {
   "cell_type": "code",
   "execution_count": 39,
   "id": "7a7434d3-51ff-43ad-9691-01659bdd975b",
   "metadata": {},
   "outputs": [
    {
     "data": {
      "text/html": [
       "<div>\n",
       "<style scoped>\n",
       "    .dataframe tbody tr th:only-of-type {\n",
       "        vertical-align: middle;\n",
       "    }\n",
       "\n",
       "    .dataframe tbody tr th {\n",
       "        vertical-align: top;\n",
       "    }\n",
       "\n",
       "    .dataframe thead th {\n",
       "        text-align: right;\n",
       "    }\n",
       "</style>\n",
       "<table border=\"1\" class=\"dataframe\">\n",
       "  <thead>\n",
       "    <tr style=\"text-align: right;\">\n",
       "      <th></th>\n",
       "      <th>0</th>\n",
       "      <th>1</th>\n",
       "    </tr>\n",
       "  </thead>\n",
       "  <tbody>\n",
       "    <tr>\n",
       "      <th>0</th>\n",
       "      <td>2019613</td>\n",
       "      <td>74622</td>\n",
       "    </tr>\n",
       "    <tr>\n",
       "      <th>1</th>\n",
       "      <td>92351</td>\n",
       "      <td>984299</td>\n",
       "    </tr>\n",
       "  </tbody>\n",
       "</table>\n",
       "</div>"
      ],
      "text/plain": [
       "         0       1\n",
       "0  2019613   74622\n",
       "1    92351  984299"
      ]
     },
     "execution_count": 39,
     "metadata": {},
     "output_type": "execute_result"
    }
   ],
   "source": [
    "# Print results: \n",
    "\n",
    "pd.DataFrame(confusion_matrix(y_test, y_predict))\n"
   ]
  },
  {
   "cell_type": "code",
   "execution_count": 40,
   "id": "ebd819b1-9764-4706-8a31-9b4f4b0d79ae",
   "metadata": {},
   "outputs": [
    {
     "name": "stdout",
     "output_type": "stream",
     "text": [
      "              precision    recall  f1-score   support\n",
      "\n",
      "        Fall       0.96      0.96      0.96   2094235\n",
      "       Daily       0.93      0.91      0.92   1076650\n",
      "\n",
      "    accuracy                           0.95   3170885\n",
      "   macro avg       0.94      0.94      0.94   3170885\n",
      "weighted avg       0.95      0.95      0.95   3170885\n",
      "\n"
     ]
    }
   ],
   "source": [
    "target_names = ['Fall', 'Daily']\n",
    "print(classification_report(y_test, y_predict,target_names=target_names) )"
   ]
  },
  {
   "cell_type": "code",
   "execution_count": 11,
   "id": "5ee47224-bebb-417a-8358-cc0f9d577cef",
   "metadata": {},
   "outputs": [
    {
     "name": "stdout",
     "output_type": "stream",
     "text": [
      "n_neighbors 3\n",
      "n_neighbors 4\n",
      "n_neighbors 5\n",
      "n_neighbors 6\n",
      "n_neighbors 7\n",
      "n_neighbors 8\n",
      "n_neighbors 9\n",
      "n_neighbors 10\n"
     ]
    }
   ],
   "source": [
    "# We create two lists to keep training and test accuracies. \n",
    "training_accuracy = []\n",
    "test_accuracy = []\n",
    "\n",
    "# We define a range of 1 to  (included) neighbors that will be tested\n",
    "neighbors_settings = range(2,11)\n",
    "\n",
    "\n",
    "for n_neighbors in neighbors_settings:\n",
    "    \n",
    "    print(\"n_neighbors\",n_neighbors)\n",
    "    \n",
    "    # creating the KNN classifier\n",
    "    knn = KNeighborsClassifier(n_neighbors=n_neighbors)\n",
    "    \n",
    "    # fitting the model\n",
    "    knn.fit(X_train, y_train)\n",
    "    \n",
    "    #recording the accuracy of the training set\n",
    "    training_accuracy.append(knn.score(X_train, y_train))\n",
    "    \n",
    "    #recording the accuracy of the test set\n",
    "    test_accuracy.append(knn.score(X_test, y_test))"
   ]
  },
  {
   "cell_type": "code",
   "execution_count": 12,
   "id": "9fea9075-2c51-47c5-a262-e39d7d64a506",
   "metadata": {},
   "outputs": [
    {
     "data": {
      "text/plain": [
       "<matplotlib.legend.Legend at 0x17a0aae50>"
      ]
     },
     "execution_count": 12,
     "metadata": {},
     "output_type": "execute_result"
    },
    {
     "data": {
      "image/png": "[encoded data removed]",
      "text/plain": [
       "<Figure size 432x288 with 1 Axes>"
      ]
     },
     "metadata": {
      "needs_background": "light"
     },
     "output_type": "display_data"
    }
   ],
   "source": [
    "import matplotlib.pyplot as plt\n",
    "\n",
    "neighbors_settings = range(3,11)\n",
    "plt.plot(neighbors_settings, training_accuracy, label='Accuracy of the Training Set')\n",
    "plt.plot(neighbors_settings, test_accuracy, label='Accuracy of the Test Set')\n",
    "plt.ylabel('Accuracy')\n",
    "plt.xlabel('Number of Neighbors')\n",
    "plt.legend()"
   ]
  },
  {
   "cell_type": "code",
   "execution_count": null,
   "id": "27b0cde3-5cdc-43aa-b3f8-fcac9e5fd096",
   "metadata": {},
   "outputs": [],
   "source": []
  }
 ],
 "metadata": {
  "kernelspec": {
   "display_name": "Python 3 (ipykernel)",
   "language": "python",
   "name": "python3"
  },
  "language_info": {
   "codemirror_mode": {
    "name": "ipython",
    "version": 3
   },
   "file_extension": ".py",
   "mimetype": "text/x-python",
   "name": "python",
   "nbconvert_exporter": "python",
   "pygments_lexer": "ipython3",
   "version": "3.9.7"
  }
 },
 "nbformat": 4,
 "nbformat_minor": 5
}
